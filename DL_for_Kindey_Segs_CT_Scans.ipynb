{
  "cells": [
    {
      "cell_type": "markdown",
      "metadata": {
        "id": "7iA_Bne2qqvB"
      },
      "source": [
        "# Final\n",
        "\n",
        "The final project will consist of a comparison between several CNN architectures for tumor detection. The goal is both to create a high-performing algorithm for differentiating kidneys with tumor from those that are normal, as well as to analyze performance across several different architecture permutations. In total, three different network designs will be tested. As each model is built and trained, ensure to serialize the final model `*.hdf5` file before moving to the next iteration.\n",
        "\n",
        "This assignment is part of the class **Introduction to Deep Learning for Medical Imaging** at University of California Irvine (CS190); more information can be found: https://github.com/peterchang77/dl_tutor/tree/master/cs190."
      ]
    },
    {
      "cell_type": "markdown",
      "metadata": {
        "id": "RIZ6CHn2qqvE"
      },
      "source": [
        "### Submission\n",
        "\n",
        "Once complete, the following items must be submitted:\n",
        "\n",
        "* final `*.ipynb` notebook\n",
        "* final trained `*.hdf5` model files for all three models\n",
        "* final compiled `*.csv` file with performance statistics across the different architectures\n",
        "* final 1-page write-up with methods and results of experiments"
      ]
    },
    {
      "cell_type": "markdown",
      "metadata": {
        "id": "56d3oMiMw8Wm"
      },
      "source": [
        "# Google Colab\n",
        "\n",
        "The following lines of code will configure your Google Colab environment for this assignment."
      ]
    },
    {
      "cell_type": "markdown",
      "metadata": {
        "id": "3gn_Q7eQqqvF"
      },
      "source": [
        "### Enable GPU runtime\n",
        "\n",
        "Use the following instructions to switch the default Colab instance into a GPU-enabled runtime:\n",
        "\n",
        "```\n",
        "Runtime > Change runtime type > Hardware accelerator > GPU\n",
        "```"
      ]
    },
    {
      "cell_type": "markdown",
      "metadata": {
        "id": "zbNO_BB2qqvF"
      },
      "source": [
        "# Environment"
      ]
    },
    {
      "cell_type": "markdown",
      "metadata": {
        "id": "JPWENvCmqqvF"
      },
      "source": [
        "### Jarvis library\n",
        "\n",
        "In this notebook we will Jarvis, a custom Python package to facilitate data science and deep learning for healthcare. Among other things, this library will be used for low-level data management, stratification and visualization of high-dimensional medical data."
      ]
    },
    {
      "cell_type": "code",
      "execution_count": 1,
      "metadata": {
        "id": "cOBbNXUQqqvG",
        "outputId": "6cb16750-f2a6-4e38-8e13-0365def26ce7",
        "colab": {
          "base_uri": "https://localhost:8080/"
        }
      },
      "outputs": [
        {
          "output_type": "stream",
          "name": "stdout",
          "text": [
            "Looking in indexes: https://pypi.org/simple, https://us-python.pkg.dev/colab-wheels/public/simple/\n",
            "Requirement already satisfied: jarvis-md in /usr/local/lib/python3.7/dist-packages (0.0.1a17)\n",
            "Requirement already satisfied: scipy in /usr/local/lib/python3.7/dist-packages (from jarvis-md) (1.4.1)\n",
            "Requirement already satisfied: numpy in /usr/local/lib/python3.7/dist-packages (from jarvis-md) (1.21.6)\n",
            "Requirement already satisfied: pyyaml>=5.2 in /usr/local/lib/python3.7/dist-packages (from jarvis-md) (6.0)\n",
            "Requirement already satisfied: h5py in /usr/local/lib/python3.7/dist-packages (from jarvis-md) (3.1.0)\n",
            "Requirement already satisfied: matplotlib in /usr/local/lib/python3.7/dist-packages (from jarvis-md) (3.2.2)\n",
            "Requirement already satisfied: requests in /usr/local/lib/python3.7/dist-packages (from jarvis-md) (2.23.0)\n",
            "Requirement already satisfied: pandas in /usr/local/lib/python3.7/dist-packages (from jarvis-md) (1.3.5)\n",
            "Requirement already satisfied: cached-property in /usr/local/lib/python3.7/dist-packages (from h5py->jarvis-md) (1.5.2)\n",
            "Requirement already satisfied: cycler>=0.10 in /usr/local/lib/python3.7/dist-packages (from matplotlib->jarvis-md) (0.11.0)\n",
            "Requirement already satisfied: python-dateutil>=2.1 in /usr/local/lib/python3.7/dist-packages (from matplotlib->jarvis-md) (2.8.2)\n",
            "Requirement already satisfied: kiwisolver>=1.0.1 in /usr/local/lib/python3.7/dist-packages (from matplotlib->jarvis-md) (1.4.2)\n",
            "Requirement already satisfied: pyparsing!=2.0.4,!=2.1.2,!=2.1.6,>=2.0.1 in /usr/local/lib/python3.7/dist-packages (from matplotlib->jarvis-md) (3.0.9)\n",
            "Requirement already satisfied: typing-extensions in /usr/local/lib/python3.7/dist-packages (from kiwisolver>=1.0.1->matplotlib->jarvis-md) (4.2.0)\n",
            "Requirement already satisfied: six>=1.5 in /usr/local/lib/python3.7/dist-packages (from python-dateutil>=2.1->matplotlib->jarvis-md) (1.15.0)\n",
            "Requirement already satisfied: pytz>=2017.3 in /usr/local/lib/python3.7/dist-packages (from pandas->jarvis-md) (2022.1)\n",
            "Requirement already satisfied: urllib3!=1.25.0,!=1.25.1,<1.26,>=1.21.1 in /usr/local/lib/python3.7/dist-packages (from requests->jarvis-md) (1.24.3)\n",
            "Requirement already satisfied: idna<3,>=2.5 in /usr/local/lib/python3.7/dist-packages (from requests->jarvis-md) (2.10)\n",
            "Requirement already satisfied: certifi>=2017.4.17 in /usr/local/lib/python3.7/dist-packages (from requests->jarvis-md) (2022.5.18.1)\n",
            "Requirement already satisfied: chardet<4,>=3.0.2 in /usr/local/lib/python3.7/dist-packages (from requests->jarvis-md) (3.0.4)\n"
          ]
        }
      ],
      "source": [
        "# --- Install jarvis (only in Google Colab or local runtime)\n",
        "% pip install jarvis-md"
      ]
    },
    {
      "cell_type": "markdown",
      "metadata": {
        "id": "7SrzR6muqqvH"
      },
      "source": [
        "### Imports\n",
        "\n",
        "Use the following lines to import any additional needed libraries:"
      ]
    },
    {
      "cell_type": "code",
      "execution_count": 2,
      "metadata": {
        "id": "Z2b26Yt2qqvH"
      },
      "outputs": [],
      "source": [
        "import numpy as np, pandas as pd\n",
        "import tensorflow as tf\n",
        "from tensorflow.keras import Input, Model, models, layers, losses, metrics, optimizers\n",
        "from jarvis.train import datasets\n",
        "from jarvis.utils.display import imshow"
      ]
    },
    {
      "cell_type": "markdown",
      "metadata": {
        "id": "tqEicnTKqqvI"
      },
      "source": [
        "# Data\n",
        "\n",
        "The data used in this tutorial will consist of kidney tumor CT exams derived from the Kidney Tumor Segmentation Challenge (KiTS). More information about the KiTS Challenge can be found here: https://kits21.kits-challenge.org/. The custom `datasets.download(...)` method can be used to download a local copy of the dataset. By default the dataset will be archived at `/data/raw/ct_kits`; as needed an alternate location may be specified using `datasets.download(name=..., path=...)`. "
      ]
    },
    {
      "cell_type": "code",
      "execution_count": 3,
      "metadata": {
        "id": "GwxxotnIqqvI",
        "outputId": "d4931c38-24b0-4aa6-c4c8-ce5d34d90a5a",
        "colab": {
          "base_uri": "https://localhost:8080/"
        }
      },
      "outputs": [
        {
          "output_type": "execute_result",
          "data": {
            "text/plain": [
              "{'code': '/data/raw/ct_kits', 'data': '/data/raw/ct_kits'}"
            ]
          },
          "metadata": {},
          "execution_count": 3
        }
      ],
      "source": [
        "# --- Download dataset\n",
        "datasets.download(name='ct/kits')"
      ]
    },
    {
      "cell_type": "markdown",
      "metadata": {
        "id": "gf9UQs0ZqqvI"
      },
      "source": [
        "Since the algorithms below may require slightly different model inputs, the required generators and inputs will be defined dyanically in the code blocks later in this notebook."
      ]
    },
    {
      "cell_type": "markdown",
      "metadata": {
        "id": "EiruMJpKqqvI"
      },
      "source": [
        "### Data Generator\n",
        "\n",
        "To accomodate these various permutations, consider the following custom code to implement a nested generator strategy:"
      ]
    },
    {
      "cell_type": "code",
      "execution_count": 4,
      "metadata": {
        "id": "3TEHZIyHqqvJ"
      },
      "outputs": [],
      "source": [
        "def G(gen, dims=2, task='cls', binarize=True):\n",
        "    \"\"\"\n",
        "    Custom generator to modify raw labels for 2D/3D classification or segmentation tasks\n",
        "    \n",
        "    :params\n",
        "    \n",
        "      (generator) gen      : original unmodified generator\n",
        "      (int)       dims     : 2D or 3D model\n",
        "      (str)       task     : 'cls' or 'seg' \n",
        "      (bool)      binarize : whether or not to binarize original 3-class labels\n",
        "    \n",
        "    \"\"\"\n",
        "    assert task in ['cls', 'seg']\n",
        "\n",
        "    for xs, _ in gen:\n",
        "\n",
        "        # --- Convert segmentation into classification labels\n",
        "        if task == 'cls':\n",
        "            axis = (2, 3, 4) if dims == 2 else (1, 2, 3, 4)\n",
        "            xs['lbl'] = np.max(xs['lbl'], axis=axis, keepdims=True)\n",
        "            \n",
        "        # --- Binarize\n",
        "        if binarize:\n",
        "            xs['lbl'] = xs['lbl'] == 2\n",
        "\n",
        "        yield xs"
      ]
    },
    {
      "cell_type": "markdown",
      "metadata": {
        "id": "3DNe1uyWqqvJ"
      },
      "source": [
        "# Training\n",
        "\n",
        "A total of three different network architectures will be tested. The goal is to compare the incremental benefit of several design choices. After building and training each model to convergence, do not forget to save each model as a separate `*.hdf5` file."
      ]
    },
    {
      "cell_type": "markdown",
      "metadata": {
        "id": "UleTo7szqqvJ"
      },
      "source": [
        "## 1. Classification\n",
        "\n",
        "The first task is to create any classification model for binary tumor detection. A 2D model will predict tumor vs. no tumor on a slice-by-slice basis whereas a 3D model will predict tumor vs. no tumor on a volume basis. Regardless of implementation choice, all statistical analysis will be performed on a **volume basis**. For those that choose a 2D model, a reduction strategy must be implemented (see details further below)."
      ]
    },
    {
      "cell_type": "markdown",
      "metadata": {
        "id": "ieZv0SmSqqvJ"
      },
      "source": [
        "### Create generators\n",
        "\n",
        "Use the following code cells to choose either a 2D or 3D input. As needed, feel free to modify the batch size and/or implement stratified sampling."
      ]
    },
    {
      "cell_type": "markdown",
      "metadata": {
        "id": "RfTCZ55cqqvK"
      },
      "source": [
        "**2D dataset**: To select the 2D data of input size `(1, 96, 96, 1)` use the keyword `2d`:"
      ]
    },
    {
      "cell_type": "code",
      "execution_count": 5,
      "metadata": {
        "id": "LM6zuyztqqvK"
      },
      "outputs": [],
      "source": [
        "# --- Prepare generators\n",
        "configs = {'batch': {'size': 16, 'fold': 0}}\n",
        "gen_train, gen_valid, client = datasets.prepare(name='ct/kits', keyword='2d', configs=configs, custom_layers=True)"
      ]
    },
    {
      "cell_type": "markdown",
      "metadata": {
        "id": "p8ExSTpDqqvK"
      },
      "source": [
        "**3D dataset**: To select the 3D data of input size `(96, 96, 96, 1)` use the keyword `3d`:"
      ]
    },
    {
      "cell_type": "code",
      "execution_count": null,
      "metadata": {
        "id": "_X3Baj2GqqvK"
      },
      "outputs": [],
      "source": [
        "# --- Prepare generators\n",
        "configs = {'batch': {'size': 2, 'fold': 0}}\n",
        "gen_train, gen_valid, client = datasets.prepare(name='ct/kits', keyword='3d', configs=configs, custom_layers=True)"
      ]
    },
    {
      "cell_type": "markdown",
      "metadata": {
        "id": "K4B9N81kqqvK"
      },
      "source": [
        "### Define model"
      ]
    },
    {
      "cell_type": "code",
      "source": [
        "def create_blocks(dims=2):\n",
        "    \n",
        "    kernel_size = (1, 3, 3) if dims == 2 else (3, 3, 3)\n",
        "    strides = (1, 2, 2) if dims == 2 else (2, 2, 2)\n",
        "    \n",
        "    # --- Define kwargs\n",
        "    kwargs = {\n",
        "        'kernel_size': kernel_size,\n",
        "        'padding': 'same',\n",
        "        'kernel_initializer': 'he_normal'}\n",
        "\n",
        "    # --- Define block components\n",
        "    conv = lambda x, filters, strides : layers.Conv3D(filters=filters, strides=strides, **kwargs)(x)\n",
        "    tran = lambda x, filters, strides : layers.Conv3DTranspose(filters=filters, strides=strides, **kwargs)(x)\n",
        "\n",
        "    norm = lambda x : layers.BatchNormalization()(x)\n",
        "    relu = lambda x : layers.ReLU()(x)\n",
        "\n",
        "    conv1 = lambda filters, x : relu(norm(conv(x, filters, strides=1)))\n",
        "    conv2 = lambda filters, x : relu(norm(conv(x, filters, strides=strides)))\n",
        "    tran2 = lambda filters, x : relu(norm(tran(x, filters, strides=strides)))\n",
        " \n",
        "    concat = lambda a, b : layers.Concatenate()([a, b])\n",
        "                                     \n",
        "    return conv1, conv2, tran2, concat"
      ],
      "metadata": {
        "id": "b-kXipAmnys9"
      },
      "execution_count": 6,
      "outputs": []
    },
    {
      "cell_type": "code",
      "execution_count": 7,
      "metadata": {
        "id": "tDwT8uDEqqvK"
      },
      "outputs": [],
      "source": [
        "# --- Create backbone model\n",
        "conv1, conv2 = create_blocks(dims=2)[:2]\n",
        "# Define model input\n",
        "x = Input(shape=(None, 96, 96, 1), dtype='float32')\n",
        "# Define layers\n",
        "l1 = conv1(8, x)\n",
        "sqz = layers.AveragePooling3D((1, l1.shape[2], l1.shape[3]))(l1)\n",
        "cha = int(l1.shape[-1]/2)\n",
        "exc = layers.Conv3D(filters=cha, kernel_size=1, activation='relu')(sqz)\n",
        "sca = layers.Conv3D(filters=l1.shape[-1], kernel_size=1, activation='sigmoid')(exc)\n",
        "\n",
        "l1 = l1* sca\n",
        "l2 = conv1 (16, conv2(16, l1))\n",
        "l3 = conv1 (32, conv2(32, l2))\n",
        "l4 = conv1 (48, conv2(48, l3))\n",
        "l5 = conv1 (64, conv2(64, l4))\n",
        "l6 = conv1 (80, conv2(80, l5))\n",
        "\n",
        "# Reshape\n",
        "n0, n1, c = l6.shape[-3:]\n",
        "f0 = layers.Reshape([-1, 1, 1, n0 * n1 * c])(l6)\n",
        "\n",
        "# Define logits\n",
        "logits = layers.Conv3D(filters=2, kernel_size=1)(f0)\n",
        "\n",
        "# Create Model\n",
        "backbone = Model(inputs = x, outputs=logits)"
      ]
    },
    {
      "cell_type": "code",
      "source": [
        ""
      ],
      "metadata": {
        "id": "1wSEC_R7vATw",
        "outputId": "a98147c7-2dd4-48eb-c9c0-d52f113d8eeb",
        "colab": {
          "base_uri": "https://localhost:8080/"
        }
      },
      "execution_count": 24,
      "outputs": [
        {
          "output_type": "execute_result",
          "data": {
            "text/plain": [
              "<KerasTensor: shape=(None, None, 96, 96, 8) dtype=float32 (created by layer 'tf.math.multiply_2')>"
            ]
          },
          "metadata": {},
          "execution_count": 24
        }
      ]
    },
    {
      "cell_type": "code",
      "execution_count": 8,
      "metadata": {
        "id": "qtMEMnI-qqvL"
      },
      "outputs": [],
      "source": [
        "# --- Create training model\n",
        "inputs = {\n",
        "    'dat': Input(shape=(1, 96, 96, 1), name = 'dat'),\n",
        "    'lbl': Input(shape=(1, 1, 1, 1), name = 'lbl')}\n",
        "  \n",
        "logits = backbone(inputs['dat'])\n",
        "\n",
        "sce = losses.SparseCategoricalCrossentropy(from_logits=True)(\n",
        "    y_true=inputs['lbl'],\n",
        "    y_pred=logits)\n",
        "\n",
        "acc = metrics.sparse_categorical_accuracy(\n",
        "    y_true=inputs['lbl'], \n",
        "    y_pred=logits)\n",
        "\n",
        "training = Model(inputs=inputs, outputs={'logits': logits, 'sec': sce, 'acc': acc})"
      ]
    },
    {
      "cell_type": "markdown",
      "metadata": {
        "id": "lL1oO6lqqqvL"
      },
      "source": [
        "### Compile and train model"
      ]
    },
    {
      "cell_type": "code",
      "execution_count": 9,
      "metadata": {
        "id": "AccAvKMvqqvL",
        "outputId": "55d7a96f-9c67-46ea-db98-f3da5c088bea",
        "colab": {
          "base_uri": "https://localhost:8080/"
        }
      },
      "outputs": [
        {
          "output_type": "stream",
          "name": "stdout",
          "text": [
            "[ 2022-06-09 09:39:10 ] [====================] 100.000% : Iterating | 000402    Epoch 1/10\n",
            "200/200 [==============================] - 18s 23ms/step - loss: 0.6564 - acc: 0.6313\n",
            "Epoch 2/10\n",
            "200/200 [==============================] - 5s 24ms/step - loss: 0.5522 - acc: 0.7275\n",
            "Epoch 3/10\n",
            "200/200 [==============================] - 5s 23ms/step - loss: 0.4761 - acc: 0.7719\n",
            "Epoch 4/10\n",
            "200/200 [==============================] - 5s 23ms/step - loss: 0.4199 - acc: 0.8016\n",
            "Epoch 5/10\n",
            "200/200 [==============================] - 8s 42ms/step - loss: 0.3449 - acc: 0.8525 - val_loss: 0.7323 - val_acc: 0.6963\n",
            "Epoch 6/10\n",
            "200/200 [==============================] - 5s 24ms/step - loss: 0.3143 - acc: 0.8644\n",
            "Epoch 7/10\n",
            "200/200 [==============================] - 5s 24ms/step - loss: 0.2606 - acc: 0.8903\n",
            "Epoch 8/10\n",
            "200/200 [==============================] - 5s 25ms/step - loss: 0.2391 - acc: 0.9075\n",
            "Epoch 9/10\n",
            "200/200 [==============================] - 5s 23ms/step - loss: 0.2046 - acc: 0.9191\n",
            "Epoch 10/10\n",
            "200/200 [==============================] - 9s 45ms/step - loss: 0.1544 - acc: 0.9397 - val_loss: 1.0552 - val_acc: 0.6837\n"
          ]
        },
        {
          "output_type": "execute_result",
          "data": {
            "text/plain": [
              "<keras.callbacks.History at 0x7f66200ab690>"
            ]
          },
          "metadata": {},
          "execution_count": 9
        }
      ],
      "source": [
        "# --- Compile model\n",
        "training.add_loss(sce)\n",
        "training.add_metric(acc, name = 'acc')\n",
        "optimizer = optimizers.Adam(learning_rate=2e-4)\n",
        "training.compile(optimizer=optimizer)\n",
        "\n",
        "# Load data into memory\n",
        "client.load_data_in_memory()\n",
        "\n",
        "# --- Train the model\n",
        "training.fit(\n",
        "    x=G(gen_train, dims=2, task='cls'),\n",
        "    validation_data=G(gen_valid, dims=2, task='cls'),\n",
        "    steps_per_epoch = 200,\n",
        "    epochs = 10,\n",
        "    validation_steps=200,\n",
        "    validation_freq=5)"
      ]
    },
    {
      "cell_type": "markdown",
      "metadata": {
        "id": "arD_OQz1qqvL"
      },
      "source": [
        "## 2. Segmentation\n",
        "\n",
        "The second task is to create any segmentation model for binary tumor localization. A 2D model will predict tumor segmentation masks on a slice-by-slice basis whereas a 3D model will predict tumor segmentation masks on a volume basis. Regardless of implementation choice, all statistical analysis will be performed on a **volume basis**. To do so, a reduction strategy must be implemented (see details further below)."
      ]
    },
    {
      "cell_type": "markdown",
      "metadata": {
        "id": "RX22uR_jqqvL"
      },
      "source": [
        "### Create generators\n",
        "\n",
        "Use the following code cells to choose either a 2D or 3D input. As needed, feel free to modify the batch size and/or implement stratified sampling."
      ]
    },
    {
      "cell_type": "markdown",
      "metadata": {
        "id": "y668NvJBqqvL"
      },
      "source": [
        "**2D dataset**: To select the 2D data of input size `(1, 96, 96, 1)` use the keyword `2d`:"
      ]
    },
    {
      "cell_type": "code",
      "execution_count": null,
      "metadata": {
        "id": "pk0biwH_qqvL"
      },
      "outputs": [],
      "source": [
        "# --- Prepare generators\n",
        "configs = {'batch': {'size': 16, 'fold': 0}}\n",
        "gen_train, gen_valid, client = datasets.prepare(name='ct/kits', keyword='2d', configs=configs, custom_layers=True)"
      ]
    },
    {
      "cell_type": "markdown",
      "metadata": {
        "id": "ZmMeCE0CqqvL"
      },
      "source": [
        "**3D dataset**: To select the 3D data of input size `(96, 96, 96, 1)` use the keyword `3d`:"
      ]
    },
    {
      "cell_type": "code",
      "execution_count": 29,
      "metadata": {
        "id": "E0Bh1up6qqvL"
      },
      "outputs": [],
      "source": [
        "# --- Prepare generators\n",
        "configs = {'batch': {'size': 2, 'fold': 0}}\n",
        "gen_train, gen_valid, client = datasets.prepare(name='ct/kits', keyword='3d', configs=configs, custom_layers=True)"
      ]
    },
    {
      "cell_type": "markdown",
      "metadata": {
        "id": "ED4BYexkqqvM"
      },
      "source": [
        "### Define model"
      ]
    },
    {
      "cell_type": "code",
      "source": [
        "def create_blocks(dims=3):\n",
        "    \n",
        "    kernel_size = (1, 3, 3) if dims == 2 else (3, 3, 3)\n",
        "    strides = (1, 2, 2) if dims == 2 else (2, 2, 2)\n",
        "    \n",
        "    # --- Define kwargs\n",
        "    kwargs = {\n",
        "        'kernel_size': kernel_size,\n",
        "        'padding': 'same',\n",
        "        'kernel_initializer': 'he_normal'}\n",
        "\n",
        "    # --- Define block components\n",
        "    conv = lambda x, filters, strides : layers.Conv3D(filters=filters, strides=strides, **kwargs)(x)\n",
        "    tran = lambda x, filters, strides : layers.Conv3DTranspose(filters=filters, strides=strides, **kwargs)(x)\n",
        "\n",
        "    norm = lambda x : layers.BatchNormalization()(x)\n",
        "    relu = lambda x : layers.ReLU()(x)\n",
        "\n",
        "    conv1 = lambda filters, x : relu(norm(conv(x, filters, strides=1)))\n",
        "    conv2 = lambda filters, x : relu(norm(conv(x, filters, strides=strides)))\n",
        "    tran2 = lambda filters, x : relu(norm(tran(x, filters, strides=strides)))\n",
        " \n",
        "    concat = lambda a, b : layers.Concatenate()([a, b])\n",
        "                                     \n",
        "    return conv1, conv2, tran2, concat, kwargs"
      ],
      "metadata": {
        "id": "ef4XMsfmHkNC"
      },
      "execution_count": 30,
      "outputs": []
    },
    {
      "cell_type": "code",
      "execution_count": 31,
      "metadata": {
        "id": "X58wlDPHqqvM"
      },
      "outputs": [],
      "source": [
        "# --- Create backbone model\n",
        "conv1, conv2, tran2, concat, kwargs = create_blocks(dims=3)[:5]\n",
        "\n",
        "# Define input\n",
        "x = Input(shape=(96, 96, 96, 1), dtype = 'float32')\n",
        "\n",
        "# Define Contracting layers\n",
        "l1 = conv1(8, x)\n",
        "l2 = conv1(16, conv2(16, l1))\n",
        "l3 = conv1(32, conv2(32, l2))\n",
        "l4 = conv1(48, conv2(48, l3))\n",
        "l5 = conv1(64, conv2(64, l4))\n",
        "\n",
        "\n",
        "# Define expanding layers\n",
        "l6 = tran2(48, l5)\n",
        "l7 = tran2(32, conv1(48, concat(l4, l6)))\n",
        "l8 = tran2(16, conv1(32, concat(l3, l7)))\n",
        "l9 = conv1(8, tran2(8, conv1(16, concat(l2, l8))))\n",
        "\n",
        "\n",
        "# Create logits\n",
        "logits = {\n",
        "    'c0': layers.Conv3D(filters=2, **kwargs)(l9),\n",
        "    'c1': layers.Conv3D(filters=2, **kwargs)(l8),\n",
        "    'c2': layers.Conv3D(filters=2, **kwargs)(l7),\n",
        "    'c3': layers.Conv3D(filters=2, **kwargs)(l6),\n",
        "}\n",
        "\n",
        "backbone_segmentation = Model(inputs=x, outputs=logits)"
      ]
    },
    {
      "cell_type": "code",
      "source": [
        "logits"
      ],
      "metadata": {
        "colab": {
          "base_uri": "https://localhost:8080/"
        },
        "id": "mY8yfsZIeaBV",
        "outputId": "531f3443-ad96-45f9-a8cc-dbdf9afe215d"
      },
      "execution_count": 32,
      "outputs": [
        {
          "output_type": "execute_result",
          "data": {
            "text/plain": [
              "{'c0': <KerasTensor: shape=(None, 96, 96, 96, 2) dtype=float32 (created by layer 'conv3d_66')>,\n",
              " 'c1': <KerasTensor: shape=(None, 48, 48, 48, 2) dtype=float32 (created by layer 'conv3d_67')>,\n",
              " 'c2': <KerasTensor: shape=(None, 24, 24, 24, 2) dtype=float32 (created by layer 'conv3d_68')>,\n",
              " 'c3': <KerasTensor: shape=(None, 12, 12, 12, 2) dtype=float32 (created by layer 'conv3d_69')>}"
            ]
          },
          "metadata": {},
          "execution_count": 32
        }
      ]
    },
    {
      "cell_type": "code",
      "execution_count": 33,
      "metadata": {
        "id": "FDqQb2dWqqvM"
      },
      "outputs": [],
      "source": [
        "# --- Create training model\n",
        "# Define Inputs\n",
        "inputs = {\n",
        "    'dat' : Input(shape=(96, 96, 96, 1), name='dat'),\n",
        "    'lbl' : Input(shape=(96, 96, 96, 1), name='lbl')}\n",
        "\n",
        "# Define first step of new wrapper model\n",
        "logits = backbone_segmentation(inputs['dat'])\n",
        "\n",
        "loss = {}\n",
        "true = inputs['lbl']\n",
        "\n",
        "for c in sorted(logits.keys()):\n",
        "    \n",
        "    if c != 'c0':\n",
        "        true = layers.MaxPooling3D(pool_size=(2, 2, 2))(true)\n",
        "    \n",
        "    #Create loss for different resolution\n",
        "    loss[c] = losses.SparseCategoricalCrossentropy(from_logits=True, name='sce-' + c)(\n",
        "        y_true=true,\n",
        "        y_pred=logits[c])\n",
        "    \n",
        "# Dice Score\n",
        "def calculate_dsc(y_true, y_pred, weights=None, c=1):\n",
        "    \"\"\"\n",
        "    Method to calculate the Dice score coefficient for given class\n",
        "\n",
        "    :params\n",
        "\n",
        "      y_true : ground-truth label\n",
        "      y_pred : predicted logits scores\n",
        "           c : class to calculate DSC on\n",
        "\n",
        "    \"\"\"    \n",
        "    true = y_true[..., 0] == c\n",
        "    pred = tf.math.argmax(y_pred, axis=-1) == c \n",
        "\n",
        "    if weights is not None:\n",
        "        true = true & (weights[..., 0] != 0)\n",
        "        pred = pred & (weights[..., 0] != 0)\n",
        "\n",
        "    A = tf.math.count_nonzero(true & pred) * 2\n",
        "    B = tf.math.count_nonzero(true) + tf.math.count_nonzero(pred)\n",
        "\n",
        "    return tf.math.divide_no_nan(\n",
        "        tf.cast(A, tf.float32), \n",
        "        tf.cast(B, tf.float32))\n",
        "  \n",
        "dsc = calculate_dsc(y_true=inputs['lbl'], y_pred=logits['c0'])\n",
        "training = Model(inputs=inputs, outputs={**logits, **loss, **{'dsc': dsc}})\n",
        "\n",
        "# Add lose\n",
        "for l in loss.values():\n",
        "    training.add_loss(l)\n",
        "\n",
        "# Add metric\n",
        "training.add_metric(dsc, name='dsc')"
      ]
    },
    {
      "cell_type": "code",
      "execution_count": 34,
      "metadata": {
        "id": "uodP_uagqqvM",
        "colab": {
          "base_uri": "https://localhost:8080/"
        },
        "outputId": "a6f83484-6323-4823-e49f-584d3b533ebf"
      },
      "outputs": [
        {
          "output_type": "stream",
          "name": "stdout",
          "text": [
            "[ 2022-06-09 08:03:53 ] [====================] 100.000% : Iterating | 000402    Epoch 1/5\n",
            "200/200 [==============================] - 67s 258ms/step - loss: 0.5157 - dsc: 0.0010\n",
            "Epoch 2/5\n",
            "200/200 [==============================] - 52s 262ms/step - loss: 0.1760 - dsc: 4.9149e-05\n",
            "Epoch 3/5\n",
            "200/200 [==============================] - 52s 260ms/step - loss: 0.1364 - dsc: 0.0011\n",
            "Epoch 4/5\n",
            "200/200 [==============================] - 52s 261ms/step - loss: 0.1138 - dsc: 0.0323\n",
            "Epoch 5/5\n",
            "200/200 [==============================] - 54s 272ms/step - loss: 0.0815 - dsc: 0.0325 - val_loss: 0.1983 - val_dsc: 0.0028\n"
          ]
        },
        {
          "output_type": "execute_result",
          "data": {
            "text/plain": [
              "<keras.callbacks.History at 0x7fecb233b290>"
            ]
          },
          "metadata": {},
          "execution_count": 34
        }
      ],
      "source": [
        "# --- Compile model\n",
        "optimizer = optimizers.Adam(learning_rate=2e-4)\n",
        "training.compile(optimizer=optimizer)\n",
        "\n",
        "# Load data into memory for faster training\n",
        "client.load_data_in_memory()\n",
        "# --- Train the model\n",
        "training.fit(\n",
        "    x=G(gen_train, dims=3, task='seg'),\n",
        "    validation_data=G(gen_valid, dims=3, task='seg'),\n",
        "    steps_per_epoch = 200,\n",
        "    epochs = 5,\n",
        "    validation_steps = 30,\n",
        "    validation_freq = 5\n",
        "    )"
      ]
    },
    {
      "cell_type": "markdown",
      "metadata": {
        "id": "-M5eucpoqqvM"
      },
      "source": [
        "## 3. Custom architecture\n",
        "\n",
        "Finally, using any of the customizations described in class, find a top-performing model that may potentially yield some incremental benefit over the two baseline models above."
      ]
    },
    {
      "cell_type": "markdown",
      "metadata": {
        "id": "_fwPuYzTqqvM"
      },
      "source": [
        "### Create generators"
      ]
    },
    {
      "cell_type": "code",
      "execution_count": 4,
      "metadata": {
        "id": "pSIDShkuqqvM"
      },
      "outputs": [],
      "source": [
        "# --- Choose input (may copy the generator code from above)\n",
        "def G(gen, dims=2, task='seg', binarize=True):\n",
        "    \"\"\"\n",
        "    Custom generator to modify raw labels for 2D/3D classification or segmentation tasks\n",
        "    \n",
        "    :params\n",
        "    \n",
        "      (generator) gen      : original unmodified generator\n",
        "      (int)       dims     : 2D or 3D model\n",
        "      (str)       task     : 'cls' or 'seg' \n",
        "      (bool)      binarize : whether or not to binarize original 3-class labels\n",
        "    \n",
        "    \"\"\"\n",
        "    assert task in ['cls', 'seg']\n",
        "\n",
        "    for xs, _ in gen:\n",
        "\n",
        "        # --- Convert segmentation into classification labels\n",
        "        if task == 'cls':\n",
        "            axis = (2, 3, 4) if dims == 2 else (1, 2, 3, 4)\n",
        "            xs['lbl'] = np.max(xs['lbl'], axis=axis, keepdims=True)\n",
        "            \n",
        "        # --- Binarize\n",
        "        if binarize:\n",
        "            xs['lbl'] = xs['lbl'] == 2\n",
        "\n",
        "        yield xs\n",
        "\n",
        "configs = {'batch': {'size': 16, 'fold': 0}}\n",
        "gen_train, gen_valid, client = datasets.prepare(name='ct/kits', keyword='2d', configs=configs, custom_layers=True)"
      ]
    },
    {
      "cell_type": "markdown",
      "metadata": {
        "id": "2jzGv8UJqqvM"
      },
      "source": [
        "### Define model"
      ]
    },
    {
      "cell_type": "code",
      "source": [
        "def create_blocks(dims=2):\n",
        "    \n",
        "    kernel_size = (1, 3, 3) if dims == 2 else (3, 3, 3)\n",
        "    strides = (1, 2, 2) if dims == 2 else (2, 2, 2)\n",
        "    \n",
        "    # --- Define kwargs\n",
        "    kwargs = {\n",
        "        'kernel_size': kernel_size,\n",
        "        'padding': 'same',\n",
        "        'kernel_initializer': 'he_normal'}\n",
        "\n",
        "    # --- Define block components\n",
        "    conv = lambda x, filters, strides : layers.Conv3D(filters=filters, strides=strides, **kwargs)(x)\n",
        "    tran = lambda x, filters, strides : layers.Conv3DTranspose(filters=filters, strides=strides, **kwargs)(x)\n",
        "\n",
        "    norm = lambda x : layers.BatchNormalization()(x)\n",
        "    relu = lambda x : layers.ReLU()(x)\n",
        "\n",
        "    conv1 = lambda filters, x : relu(norm(conv(x, filters, strides=1)))\n",
        "    conv2 = lambda filters, x : relu(norm(conv(x, filters, strides=strides)))\n",
        "    tran2 = lambda filters, x : relu(norm(tran(x, filters, strides=strides)))\n",
        " \n",
        "    concat = lambda a, b : layers.Concatenate()([a, b])\n",
        "                                     \n",
        "    return conv1, conv2, tran2, concat, kwargs"
      ],
      "metadata": {
        "id": "T2RR28DUK7c4"
      },
      "execution_count": 5,
      "outputs": []
    },
    {
      "cell_type": "code",
      "execution_count": 6,
      "metadata": {
        "id": "j-u7bUNrqqvM"
      },
      "outputs": [],
      "source": [
        "# --- Create backbone model\n",
        "# --- Define kwargs dictionary\n",
        "kwargs = {\n",
        "    'kernel_size': (1, 3, 3),\n",
        "    'padding': 'same'}\n",
        "\n",
        "# --- Define lambda functions\n",
        "conv = lambda x, filters, strides : layers.Conv3D(filters=filters, strides=strides, **kwargs)(x)\n",
        "norm = lambda x : layers.BatchNormalization()(x)\n",
        "relu = lambda x : layers.ReLU()(x)\n",
        "\n",
        "# --- Define stride-1, stride-2 blocks\n",
        "conv1 = lambda filters, x : relu(norm(conv(x, filters, strides=1)))\n",
        "conv2 = lambda filters, x : relu(norm(conv(x, filters, strides=(1, 2, 2))))\n",
        "tran = lambda x, filters, strides : layers.Conv3DTranspose(filters=filters, strides=strides, **kwargs)(x)\n",
        "tran2 = lambda filters, x : relu(norm(tran(x, filters, strides=(1, 2, 2))))\n",
        "concat = lambda a, b : layers.Concatenate()([a, b])\n",
        "\n",
        "x = Input(shape=(None, 96, 96, 1), dtype='float32')\n",
        "\n",
        "#Define contracting layers\n",
        "l1 = conv1(8, x)\n",
        "l2 = conv1(16, conv2(16, l1))\n",
        "l3 = conv1(32, conv2(32, l2))\n",
        "l4 = conv1(48, conv2(48, l3))\n",
        "l5 = conv1(64, conv2(64, l4))\n",
        "\n",
        "#Define expanding layers\n",
        "l6 = tran2(48, l5)\n",
        "l7  = tran2(32, conv1(48, concat(l4, l6)))\n",
        "l8  = tran2(16, conv1(32, concat(l3, l7)))\n",
        "l9  = tran2(8,  conv1(16, concat(l2, l8)))\n",
        "l10 = conv1(8,  l9)\n",
        "\n",
        "# Create logits\n",
        "logits = layers.Conv3D(filters=2, **kwargs)(l10)\n",
        "\n",
        "backbone_custmoized = Model(inputs=x, outputs=logits)"
      ]
    },
    {
      "cell_type": "code",
      "execution_count": 13,
      "metadata": {
        "id": "wT84jlVBqqvN"
      },
      "outputs": [],
      "source": [
        "# --- Create training model\n",
        "\n",
        "inputs = {\n",
        "    'dat': Input(shape=(None, 96, 96, 1), name='dat'),\n",
        "    'lbl': Input(shape=(None, 96, 96, 1), name='lbl')}\n",
        "\n",
        "logits = backbone_custmoized(inputs['dat'])\n",
        "\n",
        "sce = losses.SparseCategoricalCrossentropy(from_logits=True)\n",
        "loss = sce(y_true=inputs['lbl'], y_pred=logits)\n",
        "\n",
        "def calculate_dsc(y_true, y_pred, c=1):\n",
        "    \"\"\"\n",
        "    Method to calculate the Dice score coefficient for given class\n",
        "    \n",
        "    :params\n",
        "    \n",
        "      y_true : ground-truth label\n",
        "      y_pred : predicted logits scores\n",
        "           c : class to calculate DSC on\n",
        "    \n",
        "    \"\"\"    \n",
        "    true = y_true[..., 0] == c\n",
        "    pred = tf.math.argmax(y_pred, axis=-1) == c \n",
        "\n",
        "    A = tf.math.count_nonzero(true & pred) * 2\n",
        "    B = tf.math.count_nonzero(true) + tf.math.count_nonzero(pred)\n",
        "    \n",
        "    return tf.math.divide_no_nan(\n",
        "        tf.cast(A, tf.float32), \n",
        "        tf.cast(B, tf.float32))\n",
        "\n",
        "dsc = calculate_dsc(y_true=inputs['lbl'], y_pred=logits)\n",
        "\n",
        "training = Model(inputs=inputs, outputs={'logits': logits, 'loss': loss, 'dsc': dsc})\n",
        "# Add loss\n",
        "training.add_loss(loss)"
      ]
    },
    {
      "cell_type": "markdown",
      "metadata": {
        "id": "RVJzQQnQqqvN"
      },
      "source": [
        "### Compile and train model"
      ]
    },
    {
      "cell_type": "code",
      "execution_count": 14,
      "metadata": {
        "id": "5ESy7aChqqvN",
        "colab": {
          "base_uri": "https://localhost:8080/"
        },
        "outputId": "2182774f-6694-4f80-8b45-1939b1f4cfd2"
      },
      "outputs": [
        {
          "output_type": "stream",
          "name": "stdout",
          "text": [
            "[ 2022-06-09 11:53:14 ] [====================] 100.000% : Iterating | 000402    Epoch 1/10\n",
            "200/200 [==============================] - 11s 37ms/step - loss: 0.0181 - dsc: 0.8848\n",
            "Epoch 2/10\n",
            "200/200 [==============================] - 5s 25ms/step - loss: 0.0162 - dsc: 0.8771\n",
            "Epoch 3/10\n",
            "200/200 [==============================] - 5s 25ms/step - loss: 0.0156 - dsc: 0.8855\n",
            "Epoch 4/10\n",
            "200/200 [==============================] - 5s 25ms/step - loss: 0.0148 - dsc: 0.8976\n",
            "Epoch 5/10\n",
            "200/200 [==============================] - 5s 25ms/step - loss: 0.0149 - dsc: 0.9000\n",
            "Epoch 6/10\n",
            "200/200 [==============================] - 5s 27ms/step - loss: 0.0141 - dsc: 0.9107\n",
            "Epoch 7/10\n",
            "200/200 [==============================] - 5s 25ms/step - loss: 0.0138 - dsc: 0.9042\n",
            "Epoch 8/10\n",
            "200/200 [==============================] - 5s 25ms/step - loss: 0.0136 - dsc: 0.9109\n",
            "Epoch 9/10\n",
            "200/200 [==============================] - 5s 26ms/step - loss: 0.0123 - dsc: 0.9150\n",
            "Epoch 10/10\n",
            "200/200 [==============================] - 5s 25ms/step - loss: 0.0122 - dsc: 0.9184\n"
          ]
        },
        {
          "output_type": "execute_result",
          "data": {
            "text/plain": [
              "<keras.callbacks.History at 0x7f9e97248ed0>"
            ]
          },
          "metadata": {},
          "execution_count": 14
        }
      ],
      "source": [
        "# --- Compile model\n",
        "\n",
        "# Add Metric\n",
        "training.add_metric(dsc, name='dsc')\n",
        "# Define an optimizer\n",
        "optimizer = optimizers.Adam(learning_rate=2e-4)\n",
        "training.compile(optimizer=optimizer)\n",
        "\n",
        "# Load data into memory for faster training\n",
        "client.load_data_in_memory()\n",
        "\n",
        "# --- Train the model\n",
        "training.fit(\n",
        "    x=G(gen_train, dims=2, task='seg'), \n",
        "    steps_per_epoch=200, \n",
        "    epochs=10,\n",
        "    validation_data=G(gen_train, dims=2, task='seg'),\n",
        "    validation_steps=200,\n",
        "    validation_freq=11)"
      ]
    },
    {
      "cell_type": "markdown",
      "metadata": {
        "id": "GVGLiBOsqqvN"
      },
      "source": [
        "# Evaluation\n",
        "\n",
        "For each of the three models, the following metrics should be calculated for **both the training and validation** cohorts:\n",
        "\n",
        "* accuracy\n",
        "* sensitivity\n",
        "* specificity\n",
        "* positive predictive value (PPV)\n",
        "* negative predictive value (NPV)\n",
        "\n",
        "As in prior assignments, accuracy is determined on a patient by patient (volume by volume) basis, so please implement a prediction reduction strategy as needed for your models."
      ]
    },
    {
      "cell_type": "code",
      "execution_count": 16,
      "metadata": {
        "id": "L_NPqAhNqqvN",
        "outputId": "82b668df-b084-4bd0-8388-6bba282430d5",
        "colab": {
          "base_uri": "https://localhost:8080/"
        }
      },
      "outputs": [
        {
          "output_type": "stream",
          "name": "stdout",
          "text": [
            "[ 2022-06-09 11:55:10 ] [====================] 100.000% : Iterating | 000321    "
          ]
        }
      ],
      "source": [
        "# --- Create validation generator\n",
        "test_train, test_valid = client.create_generators(test=True, expand=True)\n",
        "test_train = G(test_train, dims=2, task='cls')\n",
        "test_valid = G(test_valid, dims=2, task='cls')\n",
        "\n",
        "train_preds = []\n",
        "train_trues = []\n",
        "preds = []\n",
        "trues = []\n",
        "\n",
        "for x in test_valid:\n",
        "    \n",
        "    # --- Aggregate preds\n",
        "    pred = backbone_custmoized.predict(x['dat'])\n",
        "    preds.append(np.argmax(pred, axis=-1).sum())\n",
        "\n",
        "    # --- Aggregate trues\n",
        "    trues.append(x['lbl'].any())\n",
        "\n",
        "for x in test_train:\n",
        "\n",
        "    # --- Aggregate preds\n",
        "    train_pred = backbone_custmoized.predict(x['dat'])\n",
        "    train_preds.append(np.argmax(pred, axis=-1).sum())\n",
        "\n",
        "    # --- Aggregate trues\n",
        "    train_trues.append(x['lbl'].any())\n",
        "\n",
        "# --- Create Numpy arrays\n",
        "preds = np.array(preds)\n",
        "trues = np.array(trues)\n",
        "train_preds = np.array(train_preds)\n",
        "train_trues = np.array(train_trues)\n"
      ]
    },
    {
      "cell_type": "code",
      "source": [
        "# --- Apply threshold\n",
        "thresh = np.median(preds)\n",
        "preds_ = preds >= thresh"
      ],
      "metadata": {
        "id": "CpK_5w1rwL-m"
      },
      "execution_count": 17,
      "outputs": []
    },
    {
      "cell_type": "code",
      "source": [
        "# --- Calculate TP/TN/FN/FP\n",
        "corr = preds_ == trues\n",
        "tp = np.sum(corr & trues)\n",
        "tn = np.sum(corr & ~trues)\n",
        "fn = np.sum(~corr & trues)\n",
        "fp = np.sum(~corr & ~trues)\n",
        "\n",
        "# --- Calculate stats\n",
        "acc = (tp + tn) / corr.size\n",
        "sen = tp / (tp + fn)\n",
        "spe = tn / (tn + fp)\n",
        "ppv = tp / (tp + fp)\n",
        "npv = tn / (tn + fn)\n",
        "\n",
        "print('Acc: {:0.4f}'.format(acc))\n",
        "print('Sen: {:0.4f}'.format(sen))\n",
        "print('Spe: {:0.4f}'.format(spe))\n",
        "print('PPV: {:0.4f}'.format(ppv))\n",
        "print('NPV: {:0.4f}'.format(npv))"
      ],
      "metadata": {
        "id": "_Ns8cMLnwONP",
        "outputId": "de9cd3c9-cd60-41a1-de80-2e02a5409797",
        "colab": {
          "base_uri": "https://localhost:8080/"
        }
      },
      "execution_count": 18,
      "outputs": [
        {
          "output_type": "stream",
          "name": "stdout",
          "text": [
            "Acc: 0.6790\n",
            "Sen: 0.6596\n",
            "Spe: 0.7059\n",
            "PPV: 0.7561\n",
            "NPV: 0.6000\n"
          ]
        }
      ]
    },
    {
      "cell_type": "code",
      "source": [
        "# --- Apply threshold\n",
        "train_thresh = np.median(train_preds)\n",
        "train_preds_ = train_preds >= train_thresh"
      ],
      "metadata": {
        "id": "zBw7zs-U0Mun"
      },
      "execution_count": 19,
      "outputs": []
    },
    {
      "cell_type": "code",
      "source": [
        "# --- Calculate TP/TN/FN/FP\n",
        "corr = train_preds_ == train_trues\n",
        "tp = np.sum(corr & train_trues)\n",
        "tn = np.sum(corr & ~train_trues)\n",
        "fn = np.sum(~corr & train_trues)\n",
        "fp = np.sum(~corr & ~train_trues)\n",
        "\n",
        "# --- Calculate stats\n",
        "train_acc = (tp + tn) / corr.size\n",
        "train_sen = tp / (tp + fn)\n",
        "train_spe = tn / (tn + fp)\n",
        "train_ppv = tp / (tp + fp)\n",
        "train_npv = tn / (tn + fn)\n",
        "\n",
        "print('Acc: {:0.4f}'.format(acc))\n",
        "print('Sen: {:0.4f}'.format(sen))\n",
        "print('Spe: {:0.4f}'.format(spe))\n",
        "print('PPV: {:0.4f}'.format(ppv))\n",
        "print('NPV: {:0.4f}'.format(npv))"
      ],
      "metadata": {
        "id": "BwXmVQa0zzd5",
        "outputId": "b698df23-5f0c-4779-9cdb-fdb2838e5825",
        "colab": {
          "base_uri": "https://localhost:8080/"
        }
      },
      "execution_count": 20,
      "outputs": [
        {
          "output_type": "stream",
          "name": "stdout",
          "text": [
            "Acc: 0.6790\n",
            "Sen: 0.6596\n",
            "Spe: 0.7059\n",
            "PPV: 0.7561\n",
            "NPV: 0.6000\n"
          ]
        },
        {
          "output_type": "stream",
          "name": "stderr",
          "text": [
            "/usr/local/lib/python3.7/dist-packages/ipykernel_launcher.py:13: RuntimeWarning: invalid value encountered in long_scalars\n",
            "  del sys.path[0]\n"
          ]
        }
      ]
    },
    {
      "cell_type": "markdown",
      "metadata": {
        "id": "-xEW45SUqqvN"
      },
      "source": [
        "### Performance\n",
        "\n",
        "The following minimum **validation cohort** performance metrics must be met for full credit:\n",
        "\n",
        "1. **Classification**: accuracy > 0.55\n",
        "2. **Segmentation**: accuracy > 0.55\n",
        "3. **Custom architecture**: accuracy > 0.60\n",
        "\n",
        "**Bonus**: the top three overall models based on **validation cohort** accuracy will recieve a +5 point (+15%) extra credit towards the final assignment."
      ]
    },
    {
      "cell_type": "markdown",
      "metadata": {
        "id": "_6Zmuq1fqqvN"
      },
      "source": [
        "### Results\n",
        "\n",
        "When ready, create a `*.csv` file with your compiled **training and validation** cohort statistics for the three different models. Consider the following table format (although any format that contains the required information is sufficient):\n",
        "\n",
        "```\n",
        "          TRAINING                              VALIDATION\n",
        "          accuracy | sens | spec | PPV |  NPV | accuracy | sens | spec | PPV |  NPV\n",
        "model 1\n",
        "model 2\n",
        "model 3\n",
        "```\n",
        "\n",
        "As above, statistics for both training and validation should be provided."
      ]
    },
    {
      "cell_type": "code",
      "execution_count": 21,
      "metadata": {
        "id": "6i2v4te_qqvN"
      },
      "outputs": [],
      "source": [
        "# --- Create *.csv\n",
        "df = pd.DataFrame(index=np.arange(1))\n",
        "df['accuracy'] = acc\n",
        "df['sens'] = sen\n",
        "df['spec'] = spe\n",
        "df['PPV'] = ppv\n",
        "df['NPV'] = npv\n",
        "df['train_accuracy'] = train_acc\n",
        "df['train_sens'] = train_sen\n",
        "df['train_spec'] = train_spe\n",
        "df['train_PPV'] = train_ppv\n",
        "df['train_NPV'] = train_npv\n",
        "\n",
        "# --- Serialize *.csv\n",
        "df.to_csv('./model3_results.csv')"
      ]
    },
    {
      "cell_type": "code",
      "source": [
        "backbone_custmoized.save('./model_cus.hdf5')"
      ],
      "metadata": {
        "id": "EUAGB8oL1w9y",
        "outputId": "79ed5143-2107-46fb-99f3-b3a1c4b119c7",
        "colab": {
          "base_uri": "https://localhost:8080/"
        }
      },
      "execution_count": 23,
      "outputs": [
        {
          "output_type": "stream",
          "name": "stdout",
          "text": [
            "WARNING:tensorflow:Compiled the loaded model, but the compiled metrics have yet to be built. `model.compile_metrics` will be empty until you train or evaluate the model.\n"
          ]
        }
      ]
    },
    {
      "cell_type": "markdown",
      "metadata": {
        "id": "ZwnVMBAMqqvN"
      },
      "source": [
        "# Summary\n",
        "\n",
        "In addition to algorithm training as above, a 1-2 page write-up is required for this project. The goal is to *briefly* summarize algorithm design and key results. The write-up should be divided into three sections: methods; results; discussion. More detailed information and tips can be found here: https://github.com/peterchang77/dl_tutor/blob/master/cs190/spring_2021/notebooks/midterm/checklist.md.\n",
        "\n",
        "### Methods\n",
        "\n",
        "In this section, include details such as:\n",
        "\n",
        "* **Data**: How much data was used. How many cases were utilized for training and validation?\n",
        "* **Network design**: What are the different network architectures? How many layers and parameters? Were 2D or 3D operations used? Recall that the `model.summary(...)` can be used to provide key summary statistics for this purpose. If desired, feel free to include a model figure or diagram.\n",
        "* **Implementation**: How was training implemented. What are the key hyperparameters (e.g. learning rate, batch size, optimizer, etc)? How many training iterations were required for convergence? Did these hyperparameters change during the course of training?\n",
        "* **Statistics**: What statistics do you plan to use to evaluate model accuracy? \n",
        "\n",
        "### Results\n",
        "\n",
        "In this section, briefly summarize experimental results (a few sentences), and include the result table(s) as derived above.\n",
        "\n",
        "### Discussion\n",
        "\n",
        "Were the results expected or unexpected? What accounts for the differences in performance between the algorithms? How did you choose the network architecture implemented in your final model? Feel free to elaborate on any additional observations noted during the course of this expierment."
      ]
    },
    {
      "cell_type": "markdown",
      "metadata": {
        "id": "gqJK79LFqqvO"
      },
      "source": [
        "# Submission\n"
      ]
    },
    {
      "cell_type": "markdown",
      "metadata": {
        "id": "TWnjeMP_qqvO"
      },
      "source": [
        "### Canvas\n",
        "\n",
        "Once you have completed the midterm assignment, download the necessary files from Google Colab and your Google Drive. As in prior assigments, be sure to prepare:\n",
        "\n",
        "* final (completed) notebook: `[UCInetID]_assignment.ipynb`\n",
        "* final (results) spreadsheet: `[UCInetID]_results.csv` (compiled for all three parts)\n",
        "* final (trained) model: `[UCInetID]_model.hdf5` (three separate files for all three parts)\n",
        "\n",
        "In addition, submit the summary write-up as in any common document format (`.docx`, `.tex`, `.pdf`, etc):\n",
        "\n",
        "* final summary write-up: `[UCInetID]_summary.[docx|tex|pdf]`\n",
        "\n",
        "**Important**: please submit all your files prefixed with your UCInetID as listed above. Your UCInetID is the part of your UCI email address that comes before `@uci.edu`. For example, Peter Anteater has an email address of panteater@uci.edu, so his notebooke file would be submitted under the name `panteater_notebook.ipynb`, his spreadsheet would be submitted under the name `panteater_results.csv` and and his model file would be submitted under the name `panteater_model.hdf5`."
      ]
    }
  ],
  "metadata": {
    "kernelspec": {
      "display_name": "Python 3",
      "language": "python",
      "name": "python3"
    },
    "language_info": {
      "codemirror_mode": {
        "name": "ipython",
        "version": 3
      },
      "file_extension": ".py",
      "mimetype": "text/x-python",
      "name": "python",
      "nbconvert_exporter": "python",
      "pygments_lexer": "ipython3",
      "version": "3.8.5"
    },
    "colab": {
      "name": "“final.ipynb”的副本",
      "provenance": [],
      "collapsed_sections": []
    },
    "accelerator": "GPU"
  },
  "nbformat": 4,
  "nbformat_minor": 0
}